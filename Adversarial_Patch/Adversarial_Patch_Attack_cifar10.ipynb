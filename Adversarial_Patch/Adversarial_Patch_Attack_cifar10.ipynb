{
  "nbformat": 4,
  "nbformat_minor": 0,
  "metadata": {
    "colab": {
      "name": "Adversarial_Patch_Attack.ipynb_정은의 사본",
      "provenance": [],
      "mount_file_id": "1J7-Ue8dCrET_hN8bawh_P7NioiaOsEY7",
      "authorship_tag": "ABX9TyNzopQs7SvN0OOsM1P+IxWZ",
      "include_colab_link": true
    },
    "kernelspec": {
      "name": "python3",
      "display_name": "Python 3"
    },
    "language_info": {
      "name": "python"
    },
    "accelerator": "GPU"
  },
  "cells": [
    {
      "cell_type": "markdown",
      "metadata": {
        "id": "view-in-github",
        "colab_type": "text"
      },
      "source": [
        "<a href=\"https://colab.research.google.com/github/JJungEEun/Adversarial_AI_attack/blob/main/Adversarial_Patch/Adversarial_Patch_Attack_cifar10.ipynb\" target=\"_parent\"><img src=\"https://colab.research.google.com/assets/colab-badge.svg\" alt=\"Open In Colab\"/></a>"
      ]
    },
    {
      "cell_type": "markdown",
      "source": [
        "**[코드 구현] Adversarial_Patch_Attack**\n",
        "\n",
        "- 작성자: 정은\n",
        "- 논문 제목: [Adversarial Patch[(https://arxiv.org/pdf/1712.09665.pdf)\n",
        "- 학습 데이터셋:\n",
        "- ImageNet에서 Pytorch의 Adversarial Patch 구현\n",
        "- Reference\n",
        "  + https://github.com/A-LinCui/Adversarial_Patch_Attack\n",
        "  + https://github.com/jhayes14/adversarial-patch\n"
      ],
      "metadata": {
        "id": "LWBgYKxAjDpO"
      }
    },
    {
      "cell_type": "markdown",
      "source": [
        "### 01. Make Patch"
      ],
      "metadata": {
        "id": "fBNzSznalOIS"
      }
    },
    {
      "cell_type": "code",
      "source": [
        "import numpy as np\n",
        "import torch\n",
        "import math\n",
        "from scipy.ndimage.interpolation import rotate\n",
        "import torch.utils.data\n",
        "\n",
        "\n",
        "# Initialize the patch\n",
        "def patch_initialization(patch_type='rectangle', image_size=(3, 224, 224), noise_percentage=0.03):\n",
        "    if patch_type == 'rectangle':\n",
        "        mask_length = int((noise_percentage * image_size[1] * image_size[2])**0.5)\n",
        "        patch = np.random.rand(image_size[0], mask_length, mask_length)\n",
        "\n",
        "    if patch_type == 'circle':\n",
        "      \n",
        "        image_size = 299**2\n",
        "        noise_size = int(image_size*0.05)\n",
        "        print(noise_size)\n",
        "        radius = int(math.sqrt(noise_size/math.pi))\n",
        "        patch = np.zeros((1, 3, radius*2, radius*2))    \n",
        "        for i in range(3):\n",
        "            a = np.zeros((radius*2, radius*2))    \n",
        "            cx, cy = radius, radius # The center of circle \n",
        "            y, x = np.ogrid[-radius: radius, -radius: radius]\n",
        "            index = x**2 + y**2 <= radius**2\n",
        "            a[cy-radius:cy+radius, cx-radius:cx+radius][index] = np.random.rand()\n",
        "            idx = np.flatnonzero((a == 0).all((1)))\n",
        "            a = np.delete(a, idx, axis=0)\n",
        "            patch[0][i] = np.delete(a, idx, axis=1)\n",
        "    # return patch, patch.shape\n",
        "      # image_size = image_size[1]**2\n",
        "      # radius = int(math.sqrt(noise_percentage/math.pi))\n",
        "      # patch = np.zeros((1, 3, radius*2, radius*2))    \n",
        "      # for i in range(3):\n",
        "      #     a = np.zeros((radius*2, radius*2))    \n",
        "      #     cx, cy = radius, radius # The center of circle \n",
        "      #     y, x = np.ogrid[-radius: radius, -radius: radius]\n",
        "      #     index = x**2 + y**2 <= radius**2\n",
        "      #     a[cy-radius:cy+radius, cx-radius:cx+radius][index] = np.random.rand()\n",
        "      #     idx = np.flatnonzero((a == 0).all((1)))\n",
        "      #     a = np.delete(a, idx, axis=0)\n",
        "      #     patch[0][i] = np.delete(a, idx, axis=1)\n",
        "\n",
        "    return patch\n",
        "\n",
        "\n",
        "# Generate the mask and apply the patch\n",
        "def mask_generation(mask_type='rectangle', patch=None, image_size=(3, 224, 224)):\n",
        "    applied_patch = np.zeros(image_size)\n",
        "    if mask_type == 'rectangle':\n",
        "        # patch rotation\n",
        "        rotation_angle = np.random.choice(4)\n",
        "        for i in range(patch.shape[0]):\n",
        "            patch[i] = np.rot90(patch[i], rotation_angle)  # The actual rotation angle is rotation_angle * 90\n",
        "        # patch location\n",
        "        x_location, y_location = np.random.randint(low=0, high=image_size[1]-patch.shape[1]), np.random.randint(low=0, high=image_size[2]-patch.shape[2])\n",
        "        for i in range(patch.shape[0]):\n",
        "            applied_patch[:, x_location:x_location + patch.shape[1], y_location:y_location + patch.shape[2]] = patch\n",
        "\n",
        "    if mask_type == 'circle':\n",
        "        for i in range(applied_patch.shape[0]):\n",
        "            # patch rotation\n",
        "            rot = np.random.choice(360)\n",
        "            for j in range(patch[i].shape[0]):\n",
        "                patch[i][j] = rotate(patch[i][j], angle=rot, reshape=False)\n",
        "            # patch location         \n",
        "            x_location, y_location =  np.random.randint(low=0, high=image_size[1]-patch.shape[1]), np.random.randint(low=0, high=image_size[2]-patch.shape[2])\n",
        "            for i in range(patch.shape[0]):\n",
        "              applied_patch[:, x_location:x_location + patch.shape[1], y_location:y_location + patch.shape[2]] = patch\n",
        "\n",
        "      \n",
        "    mask = applied_patch.copy()\n",
        "    mask[mask != 0] = 1.0\n",
        "\n",
        "    return applied_patch, mask, x_location, y_location\n",
        "\n",
        "# Test the patch on dataset\n",
        "def test_patch(patch_type, target, patch, test_loader, model):\n",
        "    model.eval()\n",
        "    test_total, test_actual_total, test_success = 0, 0, 0\n",
        "    for (image, label) in test_loader:\n",
        "        test_total += label.shape[0]\n",
        "        assert image.shape[0] == 1, 'Only one picture should be loaded each time.'\n",
        "        image = image.cuda()\n",
        "        label = label.cuda()\n",
        "        output = model(image)\n",
        "        _, predicted = torch.max(output.data, 1)\n",
        "        if predicted[0] != label and predicted[0].data.cpu().numpy() != target:\n",
        "            test_actual_total += 1\n",
        "            applied_patch, mask, x_location, y_location = mask_generation(patch_type, patch, image_size=(3, 224, 224))\n",
        "            applied_patch = torch.from_numpy(applied_patch)\n",
        "            mask = torch.from_numpy(mask)\n",
        "            perturbated_image = torch.mul(mask.type(torch.FloatTensor), applied_patch.type(torch.FloatTensor)) + torch.mul((1 - mask.type(torch.FloatTensor)), image.type(torch.FloatTensor))\n",
        "            perturbated_image = perturbated_image.cuda()\n",
        "            output = model(perturbated_image)\n",
        "            _, predicted = torch.max(output.data, 1)\n",
        "            if predicted[0].data.cpu().numpy() == target:\n",
        "                test_success += 1\n",
        "    return test_success / test_actual_total"
      ],
      "metadata": {
        "id": "lJUzEDNQTfBu"
      },
      "execution_count": 1,
      "outputs": []
    },
    {
      "cell_type": "code",
      "source": [
        "# Initialize the patch\n",
        "patch = patch_initialization(args.patch_type, image_size=(3, 224, 224), noise_percentage=args.noise_percentage)\n",
        "print('The shape of the patch is', patch.shape)\n",
        "\n",
        "\n",
        "applied_patch, mask, x_location, y_location = mask_generation(args.patch_type, patch, image_size=(3, 224, 224))\n",
        "print(applied_patch.shape, mask.shape, x_location, y_location)"
      ],
      "metadata": {
        "colab": {
          "base_uri": "https://localhost:8080/"
        },
        "id": "1TsWaTrqyTc0",
        "outputId": "049a993d-de36-4deb-8d05-ddfb8b2fa988"
      },
      "execution_count": 4,
      "outputs": [
        {
          "output_type": "stream",
          "name": "stdout",
          "text": [
            "The shape of the patch is (3, 70, 70)\n",
            "(3, 224, 224) (3, 224, 224) 12 0\n"
          ]
        }
      ]
    },
    {
      "cell_type": "code",
      "source": [
        "# Initialize the patch\n",
        "patch = patch_initialization('circle', image_size=(3, 224, 224), noise_percentage=args.noise_percentage)\n",
        "print('The shape of the patch is', patch.shape)\n",
        "\n",
        "\n",
        "# applied_patch, mask, x_location, y_location = mask_generation('circle', patch, image_size=(3, 224, 224))\n",
        "# print(applied_patch.shape, mask.shape, x_location, y_location)"
      ],
      "metadata": {
        "colab": {
          "base_uri": "https://localhost:8080/"
        },
        "id": "hd515pMlkpIM",
        "outputId": "0550dc5f-cb13-4ec6-dce0-2cdbd9159b0a"
      },
      "execution_count": null,
      "outputs": [
        {
          "output_type": "stream",
          "name": "stdout",
          "text": [
            "4470\n",
            "The shape of the patch is (1, 3, 74, 74)\n"
          ]
        }
      ]
    },
    {
      "cell_type": "markdown",
      "source": [
        "### 02. Load Data"
      ],
      "metadata": {
        "id": "3cJBxyZCnvUq"
      }
    },
    {
      "cell_type": "code",
      "source": [
        "# Adversarial Patch: utils\n",
        "# Utils in need to generate the patch and test on the dataset.\n",
        "\n",
        "import numpy as np\n",
        "import csv\n",
        "import matplotlib.pyplot as plt\n",
        "import torch\n",
        "import torchvision\n",
        "import torchvision.transforms as transforms\n",
        "from torch.utils.data import DataLoader\n",
        "from torch.utils.data.sampler import SubsetRandomSampler"
      ],
      "metadata": {
        "id": "JytMJK1d8Ye4"
      },
      "execution_count": 1,
      "outputs": []
    },
    {
      "cell_type": "code",
      "source": [
        "# Dataset 불러오기\n",
        "# ImageNet이 너무 커 랜덤하게 데이터 추출\n",
        "def dataloader(train_size, test_size, data_dir, batch_size, num_workers, total_num=50000):\n",
        "    # ImageFolder -> transfrom -> DataLoader\n",
        "\n",
        "    #ImageFolder의 인자: transform (이미지를 변형)\n",
        "    # Shift, Rotate, 형변환 등을 할때 사용된다.\n",
        "    train_transforms = transforms.Compose([\n",
        "        transforms.RandomResizedCrop(224),\n",
        "        transforms.RandomHorizontalFlip(), #좌우반전\n",
        "        transforms.ToTensor(), #numpy -> Tensor\n",
        "        transforms.Normalize((0.5, 0.5, 0.5), (0.5, 0.5, 0.5)) \n",
        "    ])\n",
        "\n",
        "    test_transforms = transforms.Compose([\n",
        "        transforms.Resize(size=(32,32)), #이미지 크기 강제 조정\n",
        "        transforms.RandomHorizontalFlip(),\n",
        "        transforms.ToTensor(),\n",
        "        transforms.Normalize((0.5, 0.5, 0.5), (0.5, 0.5, 0.5))\n",
        "    ])\n",
        "\n",
        "    # ImageFolder 객체는 root_dir, transform등을 인자를 받을 수 있으며, root_dir에는 최상위 경로를 적어주면 된다\n",
        "\n",
        "    training_dataset = torchvision.datasets.CIFAR10(root=args.data_dir, train=True, download=True, transform=train_transforms)\n",
        "    validation_dataset =  torchvision.datasets.CIFAR10(root=args.data_dir, train=False, download=True, transform=test_transforms)\n",
        "\n",
        "    # print(\"train_dataset\", train_dataset.class_to_idx)\n",
        "    # print(\"test_dataset\", test_dataset.class_to_idx)\n",
        "\n",
        "    # DataLoader: ImageFolder 객체를 활용해 인스턴스를 생성한 후, 하나씩 데이터를 가지고오는 작업 수행\n",
        "    # DataLoader 클래스는 ImageFolder로부터 생성된 인스턴스를 인자로 받아 Load하는 기능을 가지고 있다.\n",
        "\n",
        "    training_loader = torch.utils.data.DataLoader(dataset=training_dataset,batch_size=1, num_workers=args.num_workers,shuffle=True)\n",
        "    validation_loader = torch.utils.data.DataLoader(dataset=validation_dataset, batch_size=1, num_workers=args.num_workers,shuffle=False)\n",
        "\n",
        "    # batch: 반복문 돌 때 몇개의 이미지를 가져올지\n",
        "    # sampler: 데이터 불균형 관련\n",
        "    # num_worker: I/O 작업 시 사용할 CPU의 수\n",
        "    # suffle: 이미지 랜덤하게 섞을 지\n",
        "\n",
        "    return training_loader, validation_loader\n"
      ],
      "metadata": {
        "id": "E7sOsG9Z8Rbk"
      },
      "execution_count": 2,
      "outputs": []
    },
    {
      "cell_type": "code",
      "source": [
        "def train(epochs):\n",
        "\n",
        "  best_accuracy = 0.0\n",
        "\n",
        "  criterion = nn.CrossEntropyLoss() # loss function = cross-entorpy loss\n",
        "  optimizer = optim.Adam(model.parameters())\n",
        "\n",
        "  for epoch in range(epochs):\n",
        "    running_loss, acc = 0.0, 0\n",
        "\n",
        "    for batch_idx, (images, labels) in enumerate(train_loader, 0):\n",
        "      if args.cuda:\n",
        "        images = images.cuda()\n",
        "        labels = labels.cuda()\n",
        "        \n",
        "        optimizer.zero_grad()\n",
        "        outputs = model(images)\n",
        "        loss = criterion(outputs, labels)\n",
        "        loss.backward()\n",
        "        optimizer.step()\n",
        "\n",
        "        loss += loss.item()\n",
        "        if batch_idx %  2000 == 1999:\n",
        "          print(f'[{epoch + 1}, {i + 1:5d}] loss: {running_loss / 2000:.3f}')\n",
        "          running_loss = 0.0\n",
        "\n",
        "        accuracy = test(model, test_loader)\n",
        "        print('For epoch', epoch+1,'the test accuracy over the whole test set is %d %%' % (accuracy))\n",
        "\n",
        "        if accuracy > best_accuracy:\n",
        "            path = \"./myFirstModel.pth\"\n",
        "            torch.save(model.state_dict(), path)\n",
        "            best_accuracy = accuracy"
      ],
      "metadata": {
        "id": "EM0Q7OzfqKJL"
      },
      "execution_count": 7,
      "outputs": []
    },
    {
      "cell_type": "code",
      "source": [
        "# Test the model on clean dataset\n",
        "def test(model, dataloader):\n",
        "    model.eval()\n",
        "    correct, total, loss = 0, 0, 0\n",
        "    with torch.no_grad():\n",
        "        for batch_idx, (images, labels) in enumerate(dataloader):\n",
        "          if args.cuda:\n",
        "            images = images.cuda()         \n",
        "            labels = labels.cuda()\n",
        "      \n",
        "            outputs = model(images)\n",
        "            _, predicted = torch.max(outputs.data, 1)\n",
        "            total += labels.shape[0]\n",
        "            correct += (predicted == labels).sum().item()\n",
        "    return correct / total\n",
        "\n",
        "# Load the log and generate the training line\n",
        "def log_generation(log_dir):\n",
        "    # Load the statistics in the log\n",
        "    epochs, train_rate, test_rate = [], [], []\n",
        "    with open(log_dir, 'r') as f:\n",
        "        reader = csv.reader(f)\n",
        "        flag = 0\n",
        "        for i in reader:\n",
        "            if flag == 0:\n",
        "                flag += 1\n",
        "                continue\n",
        "            else:\n",
        "                epochs.append(int(i[0]))\n",
        "                train_rate.append(float(i[1]))\n",
        "                test_rate.append(float(i[2]))\n",
        "\n",
        "    # Generate the success line\n",
        "    plt.figure(num=0)\n",
        "    plt.plot(epochs, test_rate, label='test_success_rate', linewidth=2, color='r')\n",
        "    plt.plot(epochs, train_rate, label='train_success_rate', linewidth=2, color='b')\n",
        "    plt.xlabel(\"epoch\")\n",
        "    plt.ylabel(\"success rate\")\n",
        "    plt.xlim(-1, max(epochs) + 1)\n",
        "    plt.ylim(0, 1.0)\n",
        "    plt.title(\"patch attack success rate\")\n",
        "    plt.legend()\n",
        "    plt.savefig(\"/content/drive/MyDrive/Colab Notebooks/training_pictures/patch_attack_success_rate.png\")\n",
        "    plt.close(0)"
      ],
      "metadata": {
        "id": "UZWKxr8WUcU1"
      },
      "execution_count": 8,
      "outputs": []
    },
    {
      "cell_type": "markdown",
      "source": [
        "### 03. Adversarial Patch 공격"
      ],
      "metadata": {
        "id": "Tswk1VBK8fdX"
      }
    },
    {
      "cell_type": "code",
      "source": [
        "# Adversarial Patch Attack\n",
        "\n",
        "\"\"\"\n",
        "Reference:\n",
        "[1] Tom B. Brown, Dandelion Mané, Aurko Roy, Martín Abadi, Justin Gilmer\n",
        "    Adversarial Patch. arXiv:1712.09665\n",
        "\"\"\"\n",
        "\n",
        "import torch\n",
        "import torch.nn as nn\n",
        "from torch.autograd import Variable\n",
        "import torchvision\n",
        "from torchvision import models\n",
        "\n",
        "import argparse\n",
        "import csv\n",
        "import os\n",
        "import numpy as np\n",
        "\n",
        "import easydict\n",
        "# EasyDict: dict 값에 액세스 할 수 있음(재귀적으로) \n",
        " \n",
        "args = easydict.EasyDict({\n",
        "        \"batch_size\": 1,\n",
        "        \"num_workers\": 0,\n",
        "        \"train_size\": 2000,\n",
        "        \"test_size\": 2000,\n",
        "        \"noise_percentage\": 0.1,\n",
        "        \"probability_threshold\": 0.9,\n",
        "        \"patch_type\": \"rectangle\",\n",
        "        \"lr\": 1.0,\n",
        "        \"max_iteration\": 1000,\n",
        "        \"target\": 3,\n",
        "        \"epochs\": 20,\n",
        "        \"data_dir\":\"/content/drive/MyDrive/Colab Notebooks/dataset\" ,\n",
        "        \"GPU\": \"PCI_BUS_ID\",\n",
        "        \"log_dir\": '/content/drive/MyDrive/Colab Notebooks/patch_attack_log.csv',\n",
        "        \"cuda\": 'store_true'\n",
        "})\n"
      ],
      "metadata": {
        "id": "zw3wxm01Vogb"
      },
      "execution_count": 3,
      "outputs": []
    },
    {
      "cell_type": "markdown",
      "source": [
        "#### Optimazation"
      ],
      "metadata": {
        "id": "SnAA4UYR8qCJ"
      }
    },
    {
      "cell_type": "code",
      "source": [
        "# Patch attack via optimization\n",
        "# According to reference [1], one image is attacked each time\n",
        "# Assert: applied patch should be a numpy\n",
        "# Return the final perturbated picture and the applied patch. Their types are both numpy\n",
        "def patch_attack(image, applied_patch, mask, target, probability_threshold, model, lr=1, max_iteration=100):\n",
        "    model.eval()\n",
        "    applied_patch = torch.from_numpy(applied_patch)\n",
        "    mask = torch.from_numpy(mask)\n",
        "    target_probability, count = 0, 0\n",
        "    perturbated_image = torch.mul(mask.type(torch.FloatTensor), applied_patch.type(torch.FloatTensor)) + torch.mul((1 - mask.type(torch.FloatTensor)), image.type(torch.FloatTensor))\n",
        "    while target_probability < probability_threshold and count < max_iteration:\n",
        "        count += 1\n",
        "        # Optimize the patch\n",
        "        perturbated_image = Variable(perturbated_image.data, requires_grad=True)\n",
        "        per_image = perturbated_image\n",
        "        per_image = per_image.cuda()\n",
        "        output = model(per_image)\n",
        "        target_log_softmax = torch.nn.functional.log_softmax(output, dim=1)[0][target]\n",
        "        target_log_softmax.backward()\n",
        "        patch_grad = perturbated_image.grad.clone().cpu()\n",
        "        perturbated_image.grad.data.zero_()\n",
        "        applied_patch = lr * patch_grad + applied_patch.type(torch.FloatTensor)\n",
        "        applied_patch = torch.clamp(applied_patch, min=-3, max=3)\n",
        "        # Test the patch\n",
        "        perturbated_image = torch.mul(mask.type(torch.FloatTensor), applied_patch.type(torch.FloatTensor)) + torch.mul((1-mask.type(torch.FloatTensor)), image.type(torch.FloatTensor))\n",
        "        perturbated_image = torch.clamp(perturbated_image, min=-3, max=3)\n",
        "        perturbated_image = perturbated_image.cuda()\n",
        "        output = model(perturbated_image)\n",
        "        target_probability = torch.nn.functional.softmax(output, dim=1).data[0][target]\n",
        "    perturbated_image = perturbated_image.cpu().numpy()\n",
        "    applied_patch = applied_patch.cpu().numpy()\n",
        "    return perturbated_image, applied_patch"
      ],
      "metadata": {
        "id": "w38RDM6xeYel"
      },
      "execution_count": 9,
      "outputs": []
    },
    {
      "cell_type": "code",
      "source": [
        "# os.environ[\"CUDA_VISIBLE_DEVICES\"] = args.GPU\n",
        "\n",
        "# Load the model\n",
        "model = models.resnet50(pretrained=True).cuda()\n"
      ],
      "metadata": {
        "id": "EbgWLDQLeqCJ"
      },
      "execution_count": 4,
      "outputs": []
    },
    {
      "cell_type": "markdown",
      "source": [
        "데이터셋 불러오기"
      ],
      "metadata": {
        "id": "wrKx76yP8y1r"
      }
    },
    {
      "cell_type": "code",
      "source": [
        "train_loader, test_loader = dataloader(args.train_size, args.test_size, args.data_dir, args.batch_size, args.num_workers, 50000)"
      ],
      "metadata": {
        "colab": {
          "base_uri": "https://localhost:8080/"
        },
        "id": "ZJLB_Ya9ebpO",
        "outputId": "17a3d214-6409-47fd-e237-88e87a386474"
      },
      "execution_count": 5,
      "outputs": [
        {
          "output_type": "stream",
          "name": "stdout",
          "text": [
            "Files already downloaded and verified\n",
            "Files already downloaded and verified\n"
          ]
        }
      ]
    },
    {
      "cell_type": "markdown",
      "source": [
        "#### 정확도 검증\n"
      ],
      "metadata": {
        "id": "RP4BRcnLnqsa"
      }
    },
    {
      "cell_type": "markdown",
      "source": [
        "**훈련 후 정확도 검증으로 수정할 것**"
      ],
      "metadata": {
        "id": "4nIYJ8expdUq"
      }
    },
    {
      "cell_type": "code",
      "source": [
        "# Test the accuracy of model on trainset and testset\n",
        "trainset_acc, test_acc = test(model, train_loader), test(model, test_loader)\n",
        "print('Accuracy of the model on clean trainset and testset is {:.3f}% and {:.3f}%'.format(100*trainset_acc, 100*test_acc))"
      ],
      "metadata": {
        "colab": {
          "base_uri": "https://localhost:8080/"
        },
        "id": "iulH86Q9kAwY",
        "outputId": "67869e56-aed1-409f-d5a2-e7950ab27f43"
      },
      "execution_count": null,
      "outputs": [
        {
          "output_type": "stream",
          "name": "stdout",
          "text": [
            "Accuracy of the model on clean trainset and testset is 0.046% and 0.080%\n"
          ]
        }
      ]
    },
    {
      "cell_type": "markdown",
      "source": [
        "#### patch"
      ],
      "metadata": {
        "id": "yeprhiyZ9k2c"
      }
    },
    {
      "cell_type": "markdown",
      "source": [
        "패치 초기화"
      ],
      "metadata": {
        "id": "0HkgwLPY9oGZ"
      }
    },
    {
      "cell_type": "code",
      "source": [
        "# Initialize the patch\n",
        "patch = patch_initialization(args.patch_type, image_size=(3, 224, 224), noise_percentage=args.noise_percentage)\n",
        "print('The shape of the patch is', patch.shape)"
      ],
      "metadata": {
        "colab": {
          "base_uri": "https://localhost:8080/"
        },
        "id": "_uky2ywelo0r",
        "outputId": "c894edf8-d58f-4b69-adc5-e719351fcea2"
      },
      "execution_count": null,
      "outputs": [
        {
          "output_type": "stream",
          "name": "stdout",
          "text": [
            "The shape of the patch is (3, 70, 70)\n"
          ]
        }
      ]
    },
    {
      "cell_type": "code",
      "source": [
        "# Initialize the patch\n",
        "patch = patch_initialization('circle', image_size=(3, 224, 224), noise_percentage=args.noise_percentage)\n",
        "print('The shape of the patch is', patch.shape)"
      ],
      "metadata": {
        "colab": {
          "base_uri": "https://localhost:8080/"
        },
        "id": "3CZpSTBIjjNN",
        "outputId": "e1a5efce-ecab-43bc-f1a3-1e46fed4ee7e"
      },
      "execution_count": null,
      "outputs": [
        {
          "output_type": "stream",
          "name": "stdout",
          "text": [
            "The shape of the patch is (1, 3, 78, 78)\n"
          ]
        }
      ]
    },
    {
      "cell_type": "code",
      "source": [
        "import torchvision.utils as vutils"
      ],
      "metadata": {
        "id": "R_CT8wneSCNo"
      },
      "execution_count": null,
      "outputs": []
    },
    {
      "cell_type": "code",
      "source": [
        "with open(args.log_dir, 'w') as f:\n",
        "    writer = csv.writer(f)\n",
        "    writer.writerow([\"epoch\", \"train_success\", \"test_success\"])\n",
        "\n",
        "best_patch_epoch, best_patch_success_rate = 0, 0\n",
        "\n",
        "# Generate the patch\n",
        "for epoch in range(2):\n",
        "    train_total, train_actual_total, train_success = 0, 0, 0\n",
        "    for (image, label) in train_loader:\n",
        "        train_total += label.shape[0]\n",
        "        assert image.shape[0] == 1, \"Only one picture should be loaded each time.\"\n",
        "        image = image.cuda()\n",
        "        label = label.cuda()\n",
        "        output = model(image)\n",
        "        _, predicted = torch.max(output.data, 1)\n",
        "        if predicted[0] != label and predicted[0].data.cpu().numpy() != args.target:\n",
        "             train_actual_total += 1\n",
        "             applied_patch, mask, x_location, y_location = mask_generation(args.patch_type, patch, image_size=(3, 224, 224))\n",
        "             perturbated_image, applied_patch = patch_attack(image, applied_patch, mask, args.target, args.probability_threshold, model, args.lr, args.max_iteration)\n",
        "             perturbated_image2 = torch.from_numpy(perturbated_image).cuda()\n",
        "             output = model(perturbated_image2)\n",
        "             _, predicted = torch.max(output.data, 1)\n",
        "            \n",
        "             mean, std = [0.485, 0.456, 0.406], [0.229, 0.224, 0.225]\n",
        "\n",
        "             if predicted[0].data.cpu().numpy() == args.target:\n",
        "                 train_success += 1\n",
        "     \n",
        "                \n",
        "                 plt.imshow(np.clip(np.transpose(perturbated_image[0].data, (1, 2, 0)) * std + mean, 0, 1))              \n",
        "                 plt.savefig(\"/content/drive/MyDrive/Colab Notebooks/training_pictures/perturbated_img.png\")\n",
        "                #                   vutils.save_image(perturbated_image.data,\"/content/drive/MyDrive/Colab Notebooks/training_pictures/\"+ \"perturbated_img.png\")\n",
        "\n",
        "\n",
        "             patch = applied_patch[0][:, x_location:x_location + patch.shape[1], y_location:y_location + patch.shape[2]]\n",
        "    plt.imshow(np.clip(np.transpose(patch, (1, 2, 0)) * std + mean, 0, 1))\n",
        "    plt.savefig(\"/content/drive/MyDrive/Colab Notebooks/training_pictures/\" + str(epoch) + \" patch.png\")\n",
        "    print(\"Epoch:{} Patch attack success rate on trainset: {:.3f}%\".format(epoch, 100 * train_success / train_actual_total))\n",
        "    train_success_rate = test_patch(args.patch_type, args.target, patch, test_loader, model)\n",
        "    print(\"Epoch:{} Patch attack success rate on trainset: {:.3f}%\".format(epoch, 100 * train_success_rate))\n",
        "    test_success_rate = test_patch(args.patch_type, args.target, patch, test_loader, model)\n",
        "    print(\"Epoch:{} Patch attack success rate on testset: {:.3f}%\".format(epoch, 100 * test_success_rate))\n",
        "\n",
        "    # Record the statistics\n",
        "    with open(args.log_dir, 'a') as f:\n",
        "        writer = csv.writer(f)\n",
        "        writer.writerow([epoch, train_success_rate, test_success_rate])\n",
        "\n",
        "    if test_success_rate > best_patch_success_rate:\n",
        "        best_patch_success_rate = test_success_rate\n",
        "        best_patch_epoch = epoch\n",
        "        plt.imshow(np.clip(np.transpose(patch, (1, 2, 0)) * std + mean, 0, 1))\n",
        "        plt.savefig(\"/content/drive/MyDrive/Colab Notebooks/training_pictures/best_patch.png\")\n",
        "\n",
        "    # Load the statistics and generate the line\n",
        "    log_generation(args.log_dir)\n",
        "\n",
        "print(\"The best patch is found at epoch {} with success rate {}% on testset\".format(best_patch_epoch, 100 * best_patch_success_rate))"
      ],
      "metadata": {
        "id": "IQWBVsWoUgWq",
        "colab": {
          "base_uri": "https://localhost:8080/",
          "height": 672
        },
        "outputId": "8b29074b-5045-45fa-b545-e49f8ee1daf8"
      },
      "execution_count": null,
      "outputs": [
        {
          "output_type": "error",
          "ename": "FileNotFoundError",
          "evalue": "ignored",
          "traceback": [
            "\u001b[0;31m---------------------------------------------------------------------------\u001b[0m",
            "\u001b[0;31mFileNotFoundError\u001b[0m                         Traceback (most recent call last)",
            "\u001b[0;32m<ipython-input-35-a59d5b8aa84d>\u001b[0m in \u001b[0;36m<module>\u001b[0;34m()\u001b[0m\n\u001b[1;32m     30\u001b[0m \u001b[0;34m\u001b[0m\u001b[0m\n\u001b[1;32m     31\u001b[0m                  \u001b[0mplt\u001b[0m\u001b[0;34m.\u001b[0m\u001b[0mimshow\u001b[0m\u001b[0;34m(\u001b[0m\u001b[0mnp\u001b[0m\u001b[0;34m.\u001b[0m\u001b[0mclip\u001b[0m\u001b[0;34m(\u001b[0m\u001b[0mnp\u001b[0m\u001b[0;34m.\u001b[0m\u001b[0mtranspose\u001b[0m\u001b[0;34m(\u001b[0m\u001b[0mperturbated_image\u001b[0m\u001b[0;34m[\u001b[0m\u001b[0;36m0\u001b[0m\u001b[0;34m]\u001b[0m\u001b[0;34m.\u001b[0m\u001b[0mdata\u001b[0m\u001b[0;34m,\u001b[0m \u001b[0;34m(\u001b[0m\u001b[0;36m1\u001b[0m\u001b[0;34m,\u001b[0m \u001b[0;36m2\u001b[0m\u001b[0;34m,\u001b[0m \u001b[0;36m0\u001b[0m\u001b[0;34m)\u001b[0m\u001b[0;34m)\u001b[0m \u001b[0;34m*\u001b[0m \u001b[0mstd\u001b[0m \u001b[0;34m+\u001b[0m \u001b[0mmean\u001b[0m\u001b[0;34m,\u001b[0m \u001b[0;36m0\u001b[0m\u001b[0;34m,\u001b[0m \u001b[0;36m1\u001b[0m\u001b[0;34m)\u001b[0m\u001b[0;34m)\u001b[0m\u001b[0;34m\u001b[0m\u001b[0;34m\u001b[0m\u001b[0m\n\u001b[0;32m---> 32\u001b[0;31m                  \u001b[0mplt\u001b[0m\u001b[0;34m.\u001b[0m\u001b[0msavefig\u001b[0m\u001b[0;34m(\u001b[0m\u001b[0;34m\"/content/drive/MyDrive/Colab Notebooks/training_pictures/perturbated_img.png\"\u001b[0m\u001b[0;34m)\u001b[0m\u001b[0;34m\u001b[0m\u001b[0;34m\u001b[0m\u001b[0m\n\u001b[0m\u001b[1;32m     33\u001b[0m                 \u001b[0;31m#                   vutils.save_image(perturbated_image.data,\"/content/drive/MyDrive/Colab Notebooks/training_pictures/\"+ \"perturbated_img.png\")\u001b[0m\u001b[0;34m\u001b[0m\u001b[0;34m\u001b[0m\u001b[0;34m\u001b[0m\u001b[0m\n\u001b[1;32m     34\u001b[0m \u001b[0;34m\u001b[0m\u001b[0m\n",
            "\u001b[0;32m/usr/local/lib/python3.7/dist-packages/matplotlib/pyplot.py\u001b[0m in \u001b[0;36msavefig\u001b[0;34m(*args, **kwargs)\u001b[0m\n\u001b[1;32m    721\u001b[0m \u001b[0;32mdef\u001b[0m \u001b[0msavefig\u001b[0m\u001b[0;34m(\u001b[0m\u001b[0;34m*\u001b[0m\u001b[0margs\u001b[0m\u001b[0;34m,\u001b[0m \u001b[0;34m**\u001b[0m\u001b[0mkwargs\u001b[0m\u001b[0;34m)\u001b[0m\u001b[0;34m:\u001b[0m\u001b[0;34m\u001b[0m\u001b[0;34m\u001b[0m\u001b[0m\n\u001b[1;32m    722\u001b[0m     \u001b[0mfig\u001b[0m \u001b[0;34m=\u001b[0m \u001b[0mgcf\u001b[0m\u001b[0;34m(\u001b[0m\u001b[0;34m)\u001b[0m\u001b[0;34m\u001b[0m\u001b[0;34m\u001b[0m\u001b[0m\n\u001b[0;32m--> 723\u001b[0;31m     \u001b[0mres\u001b[0m \u001b[0;34m=\u001b[0m \u001b[0mfig\u001b[0m\u001b[0;34m.\u001b[0m\u001b[0msavefig\u001b[0m\u001b[0;34m(\u001b[0m\u001b[0;34m*\u001b[0m\u001b[0margs\u001b[0m\u001b[0;34m,\u001b[0m \u001b[0;34m**\u001b[0m\u001b[0mkwargs\u001b[0m\u001b[0;34m)\u001b[0m\u001b[0;34m\u001b[0m\u001b[0;34m\u001b[0m\u001b[0m\n\u001b[0m\u001b[1;32m    724\u001b[0m     \u001b[0mfig\u001b[0m\u001b[0;34m.\u001b[0m\u001b[0mcanvas\u001b[0m\u001b[0;34m.\u001b[0m\u001b[0mdraw_idle\u001b[0m\u001b[0;34m(\u001b[0m\u001b[0;34m)\u001b[0m   \u001b[0;31m# need this if 'transparent=True' to reset colors\u001b[0m\u001b[0;34m\u001b[0m\u001b[0;34m\u001b[0m\u001b[0m\n\u001b[1;32m    725\u001b[0m     \u001b[0;32mreturn\u001b[0m \u001b[0mres\u001b[0m\u001b[0;34m\u001b[0m\u001b[0;34m\u001b[0m\u001b[0m\n",
            "\u001b[0;32m/usr/local/lib/python3.7/dist-packages/matplotlib/figure.py\u001b[0m in \u001b[0;36msavefig\u001b[0;34m(self, fname, transparent, **kwargs)\u001b[0m\n\u001b[1;32m   2201\u001b[0m             \u001b[0mself\u001b[0m\u001b[0;34m.\u001b[0m\u001b[0mpatch\u001b[0m\u001b[0;34m.\u001b[0m\u001b[0mset_visible\u001b[0m\u001b[0;34m(\u001b[0m\u001b[0mframeon\u001b[0m\u001b[0;34m)\u001b[0m\u001b[0;34m\u001b[0m\u001b[0;34m\u001b[0m\u001b[0m\n\u001b[1;32m   2202\u001b[0m \u001b[0;34m\u001b[0m\u001b[0m\n\u001b[0;32m-> 2203\u001b[0;31m         \u001b[0mself\u001b[0m\u001b[0;34m.\u001b[0m\u001b[0mcanvas\u001b[0m\u001b[0;34m.\u001b[0m\u001b[0mprint_figure\u001b[0m\u001b[0;34m(\u001b[0m\u001b[0mfname\u001b[0m\u001b[0;34m,\u001b[0m \u001b[0;34m**\u001b[0m\u001b[0mkwargs\u001b[0m\u001b[0;34m)\u001b[0m\u001b[0;34m\u001b[0m\u001b[0;34m\u001b[0m\u001b[0m\n\u001b[0m\u001b[1;32m   2204\u001b[0m \u001b[0;34m\u001b[0m\u001b[0m\n\u001b[1;32m   2205\u001b[0m         \u001b[0;32mif\u001b[0m \u001b[0mframeon\u001b[0m\u001b[0;34m:\u001b[0m\u001b[0;34m\u001b[0m\u001b[0;34m\u001b[0m\u001b[0m\n",
            "\u001b[0;32m/usr/local/lib/python3.7/dist-packages/matplotlib/backend_bases.py\u001b[0m in \u001b[0;36mprint_figure\u001b[0;34m(self, filename, dpi, facecolor, edgecolor, orientation, format, bbox_inches, **kwargs)\u001b[0m\n\u001b[1;32m   2124\u001b[0m                     \u001b[0morientation\u001b[0m\u001b[0;34m=\u001b[0m\u001b[0morientation\u001b[0m\u001b[0;34m,\u001b[0m\u001b[0;34m\u001b[0m\u001b[0;34m\u001b[0m\u001b[0m\n\u001b[1;32m   2125\u001b[0m                     \u001b[0mbbox_inches_restore\u001b[0m\u001b[0;34m=\u001b[0m\u001b[0m_bbox_inches_restore\u001b[0m\u001b[0;34m,\u001b[0m\u001b[0;34m\u001b[0m\u001b[0;34m\u001b[0m\u001b[0m\n\u001b[0;32m-> 2126\u001b[0;31m                     **kwargs)\n\u001b[0m\u001b[1;32m   2127\u001b[0m             \u001b[0;32mfinally\u001b[0m\u001b[0;34m:\u001b[0m\u001b[0;34m\u001b[0m\u001b[0;34m\u001b[0m\u001b[0m\n\u001b[1;32m   2128\u001b[0m                 \u001b[0;32mif\u001b[0m \u001b[0mbbox_inches\u001b[0m \u001b[0;32mand\u001b[0m \u001b[0mrestore_bbox\u001b[0m\u001b[0;34m:\u001b[0m\u001b[0;34m\u001b[0m\u001b[0;34m\u001b[0m\u001b[0m\n",
            "\u001b[0;32m/usr/local/lib/python3.7/dist-packages/matplotlib/backends/backend_agg.py\u001b[0m in \u001b[0;36mprint_png\u001b[0;34m(self, filename_or_obj, metadata, pil_kwargs, *args, **kwargs)\u001b[0m\n\u001b[1;32m    533\u001b[0m         \u001b[0;32melse\u001b[0m\u001b[0;34m:\u001b[0m\u001b[0;34m\u001b[0m\u001b[0;34m\u001b[0m\u001b[0m\n\u001b[1;32m    534\u001b[0m             \u001b[0mrenderer\u001b[0m \u001b[0;34m=\u001b[0m \u001b[0mself\u001b[0m\u001b[0;34m.\u001b[0m\u001b[0mget_renderer\u001b[0m\u001b[0;34m(\u001b[0m\u001b[0;34m)\u001b[0m\u001b[0;34m\u001b[0m\u001b[0;34m\u001b[0m\u001b[0m\n\u001b[0;32m--> 535\u001b[0;31m             \u001b[0;32mwith\u001b[0m \u001b[0mcbook\u001b[0m\u001b[0;34m.\u001b[0m\u001b[0mopen_file_cm\u001b[0m\u001b[0;34m(\u001b[0m\u001b[0mfilename_or_obj\u001b[0m\u001b[0;34m,\u001b[0m \u001b[0;34m\"wb\"\u001b[0m\u001b[0;34m)\u001b[0m \u001b[0;32mas\u001b[0m \u001b[0mfh\u001b[0m\u001b[0;34m:\u001b[0m\u001b[0;34m\u001b[0m\u001b[0;34m\u001b[0m\u001b[0m\n\u001b[0m\u001b[1;32m    536\u001b[0m                 _png.write_png(renderer._renderer, fh, self.figure.dpi,\n\u001b[1;32m    537\u001b[0m                                metadata={**default_metadata, **metadata})\n",
            "\u001b[0;32m/usr/lib/python3.7/contextlib.py\u001b[0m in \u001b[0;36m__enter__\u001b[0;34m(self)\u001b[0m\n\u001b[1;32m    110\u001b[0m         \u001b[0;32mdel\u001b[0m \u001b[0mself\u001b[0m\u001b[0;34m.\u001b[0m\u001b[0margs\u001b[0m\u001b[0;34m,\u001b[0m \u001b[0mself\u001b[0m\u001b[0;34m.\u001b[0m\u001b[0mkwds\u001b[0m\u001b[0;34m,\u001b[0m \u001b[0mself\u001b[0m\u001b[0;34m.\u001b[0m\u001b[0mfunc\u001b[0m\u001b[0;34m\u001b[0m\u001b[0;34m\u001b[0m\u001b[0m\n\u001b[1;32m    111\u001b[0m         \u001b[0;32mtry\u001b[0m\u001b[0;34m:\u001b[0m\u001b[0;34m\u001b[0m\u001b[0;34m\u001b[0m\u001b[0m\n\u001b[0;32m--> 112\u001b[0;31m             \u001b[0;32mreturn\u001b[0m \u001b[0mnext\u001b[0m\u001b[0;34m(\u001b[0m\u001b[0mself\u001b[0m\u001b[0;34m.\u001b[0m\u001b[0mgen\u001b[0m\u001b[0;34m)\u001b[0m\u001b[0;34m\u001b[0m\u001b[0;34m\u001b[0m\u001b[0m\n\u001b[0m\u001b[1;32m    113\u001b[0m         \u001b[0;32mexcept\u001b[0m \u001b[0mStopIteration\u001b[0m\u001b[0;34m:\u001b[0m\u001b[0;34m\u001b[0m\u001b[0;34m\u001b[0m\u001b[0m\n\u001b[1;32m    114\u001b[0m             \u001b[0;32mraise\u001b[0m \u001b[0mRuntimeError\u001b[0m\u001b[0;34m(\u001b[0m\u001b[0;34m\"generator didn't yield\"\u001b[0m\u001b[0;34m)\u001b[0m \u001b[0;32mfrom\u001b[0m \u001b[0;32mNone\u001b[0m\u001b[0;34m\u001b[0m\u001b[0;34m\u001b[0m\u001b[0m\n",
            "\u001b[0;32m/usr/local/lib/python3.7/dist-packages/matplotlib/cbook/__init__.py\u001b[0m in \u001b[0;36mopen_file_cm\u001b[0;34m(path_or_file, mode, encoding)\u001b[0m\n\u001b[1;32m    416\u001b[0m \u001b[0;32mdef\u001b[0m \u001b[0mopen_file_cm\u001b[0m\u001b[0;34m(\u001b[0m\u001b[0mpath_or_file\u001b[0m\u001b[0;34m,\u001b[0m \u001b[0mmode\u001b[0m\u001b[0;34m=\u001b[0m\u001b[0;34m\"r\"\u001b[0m\u001b[0;34m,\u001b[0m \u001b[0mencoding\u001b[0m\u001b[0;34m=\u001b[0m\u001b[0;32mNone\u001b[0m\u001b[0;34m)\u001b[0m\u001b[0;34m:\u001b[0m\u001b[0;34m\u001b[0m\u001b[0;34m\u001b[0m\u001b[0m\n\u001b[1;32m    417\u001b[0m     \u001b[0;34mr\"\"\"Pass through file objects and context-manage `.PathLike`\\s.\"\"\"\u001b[0m\u001b[0;34m\u001b[0m\u001b[0;34m\u001b[0m\u001b[0m\n\u001b[0;32m--> 418\u001b[0;31m     \u001b[0mfh\u001b[0m\u001b[0;34m,\u001b[0m \u001b[0mopened\u001b[0m \u001b[0;34m=\u001b[0m \u001b[0mto_filehandle\u001b[0m\u001b[0;34m(\u001b[0m\u001b[0mpath_or_file\u001b[0m\u001b[0;34m,\u001b[0m \u001b[0mmode\u001b[0m\u001b[0;34m,\u001b[0m \u001b[0;32mTrue\u001b[0m\u001b[0;34m,\u001b[0m \u001b[0mencoding\u001b[0m\u001b[0;34m)\u001b[0m\u001b[0;34m\u001b[0m\u001b[0;34m\u001b[0m\u001b[0m\n\u001b[0m\u001b[1;32m    419\u001b[0m     \u001b[0;32mif\u001b[0m \u001b[0mopened\u001b[0m\u001b[0;34m:\u001b[0m\u001b[0;34m\u001b[0m\u001b[0;34m\u001b[0m\u001b[0m\n\u001b[1;32m    420\u001b[0m         \u001b[0;32mwith\u001b[0m \u001b[0mfh\u001b[0m\u001b[0;34m:\u001b[0m\u001b[0;34m\u001b[0m\u001b[0;34m\u001b[0m\u001b[0m\n",
            "\u001b[0;32m/usr/local/lib/python3.7/dist-packages/matplotlib/cbook/__init__.py\u001b[0m in \u001b[0;36mto_filehandle\u001b[0;34m(fname, flag, return_opened, encoding)\u001b[0m\n\u001b[1;32m    401\u001b[0m             \u001b[0mfh\u001b[0m \u001b[0;34m=\u001b[0m \u001b[0mbz2\u001b[0m\u001b[0;34m.\u001b[0m\u001b[0mBZ2File\u001b[0m\u001b[0;34m(\u001b[0m\u001b[0mfname\u001b[0m\u001b[0;34m,\u001b[0m \u001b[0mflag\u001b[0m\u001b[0;34m)\u001b[0m\u001b[0;34m\u001b[0m\u001b[0;34m\u001b[0m\u001b[0m\n\u001b[1;32m    402\u001b[0m         \u001b[0;32melse\u001b[0m\u001b[0;34m:\u001b[0m\u001b[0;34m\u001b[0m\u001b[0;34m\u001b[0m\u001b[0m\n\u001b[0;32m--> 403\u001b[0;31m             \u001b[0mfh\u001b[0m \u001b[0;34m=\u001b[0m \u001b[0mopen\u001b[0m\u001b[0;34m(\u001b[0m\u001b[0mfname\u001b[0m\u001b[0;34m,\u001b[0m \u001b[0mflag\u001b[0m\u001b[0;34m,\u001b[0m \u001b[0mencoding\u001b[0m\u001b[0;34m=\u001b[0m\u001b[0mencoding\u001b[0m\u001b[0;34m)\u001b[0m\u001b[0;34m\u001b[0m\u001b[0;34m\u001b[0m\u001b[0m\n\u001b[0m\u001b[1;32m    404\u001b[0m         \u001b[0mopened\u001b[0m \u001b[0;34m=\u001b[0m \u001b[0;32mTrue\u001b[0m\u001b[0;34m\u001b[0m\u001b[0;34m\u001b[0m\u001b[0m\n\u001b[1;32m    405\u001b[0m     \u001b[0;32melif\u001b[0m \u001b[0mhasattr\u001b[0m\u001b[0;34m(\u001b[0m\u001b[0mfname\u001b[0m\u001b[0;34m,\u001b[0m \u001b[0;34m'seek'\u001b[0m\u001b[0;34m)\u001b[0m\u001b[0;34m:\u001b[0m\u001b[0;34m\u001b[0m\u001b[0;34m\u001b[0m\u001b[0m\n",
            "\u001b[0;31mFileNotFoundError\u001b[0m: [Errno 2] No such file or directory: '/content/drive/MyDrive/Colab Notebooks/training_pictures/perturbated_img.png'"
          ]
        },
        {
          "output_type": "display_data",
          "data": {
            "text/plain": [
              "<Figure size 432x288 with 1 Axes>"
            ],
            "image/png": "[encoded data removed]"
          },
          "metadata": {
            "needs_background": "light"
          }
        }
      ]
    },
    {
      "cell_type": "markdown",
      "source": [
        "```\n",
        "Epoch:0 Patch attack success rate on trainset: 100.000%\n",
        "Epoch:0 Patch attack success rate on trainset: 100.000%\n",
        "Epoch:0 Patch attack success rate on testset: 100.000%\n",
        "Epoch:1 Patch attack success rate on trainset: 100.000%\n",
        "Epoch:1 Patch attack success rate on trainset: 100.000%\n",
        "Epoch:1 Patch attack success rate on testset: 100.000%\n",
        "Epoch:2 Patch attack success rate on trainset: 100.000%\n",
        "Epoch:2 Patch attack success rate on trainset: 100.000%\n",
        "Epoch:2 Patch attack success rate on testset: 100.000%\n",
        "Epoch:3 Patch attack success rate on trainset: 100.000%\n",
        "Epoch:3 Patch attack success rate on trainset: 100.000%\n",
        "Epoch:3 Patch attack success rate on testset: 100.000%\n",
        "Epoch:4 Patch attack success rate on trainset: 100.000%\n",
        "Epoch:4 Patch attack success rate on trainset: 100.000%\n",
        "Epoch:4 Patch attack success rate on testset: 100.000%\n",
        "```"
      ],
      "metadata": {
        "id": "Gny5da6JY9TY"
      }
    },
    {
      "cell_type": "code",
      "source": [
        "# Function to test the model with the test dataset and print the accuracy for the test images\n",
        "def testAccuracy():\n",
        "    \n",
        "    model.eval()\n",
        "    accuracy = 0.0\n",
        "    total = 0.0\n",
        "    \n",
        "    with torch.no_grad():\n",
        "        for data in test_loader:\n",
        "            images, labels = data\n",
        "            images, labels = images.cuda(), labels.cuda()\n",
        "            # run the model on the test set to predict labels\n",
        "            outputs = model(images)\n",
        "            # the label with the highest energy will be our prediction\n",
        "            _, predicted = torch.max(outputs.data, 1)\n",
        "            total += labels.size(0)\n",
        "            accuracy += (predicted == labels).sum().item()\n",
        "    \n",
        "    # compute the accuracy over all test images\n",
        "    accuracy = (100 * accuracy / total)\n",
        "    return(accuracy)"
      ],
      "metadata": {
        "id": "Mf_ZL0931nZy"
      },
      "execution_count": 6,
      "outputs": []
    },
    {
      "cell_type": "code",
      "source": [
        "testAccuracy()"
      ],
      "metadata": {
        "colab": {
          "base_uri": "https://localhost:8080/"
        },
        "id": "Twaq4pvb28aI",
        "outputId": "79db3b98-b902-4f42-82f4-e3c82a068a46"
      },
      "execution_count": 7,
      "outputs": [
        {
          "output_type": "execute_result",
          "data": {
            "text/plain": [
              "0.06"
            ]
          },
          "metadata": {},
          "execution_count": 7
        }
      ]
    },
    {
      "cell_type": "code",
      "source": [
        "#Model Loss Function and Optimization settings\n",
        "import torch.optim as optim\n",
        "\n",
        "criterion = nn.CrossEntropyLoss() # loss function = cross-entorpy loss\n",
        "optimizer = optim.Adam(model.parameters())\n",
        "\n",
        "#모델 학습\n",
        "for epoch in range(5):   #epoch = 2 # 데이터셋을 수차례 반복합니다.\n",
        "    running_loss = 0.0\n",
        "\n",
        "    for i, data in enumerate(train_loader, 0):\n",
        "        # [inputs, labels]의 목록인 data로부터 입력을 받은 후;\n",
        "        inputs, labels = data\n",
        "        inputs, labels = inputs.cuda(), labels.cuda()\n",
        "\n",
        "        # 변화도(Gradient) 매개변수를 0으로 만들고\n",
        "        optimizer.zero_grad()\n",
        "\n",
        "        # 순전파 + 역전파 + 최적화를 한 후\n",
        "        outputs = model(inputs)\n",
        "        loss = criterion(outputs, labels)\n",
        "        loss.backward()\n",
        "        optimizer.step()\n",
        "\n",
        "        # 통계를 출력합니다.\n",
        "        running_loss += loss.item()\n",
        "        if i % 2000 == 1999:    # print every 2000 mini-batches\n",
        "            print(f'[{epoch + 1}, {i + 1:5d}] loss: {running_loss / 2000:.3f}')\n",
        "            running_loss = 0.0\n",
        "        \n",
        "    accuracy = testAccuracy()\n",
        "    print('For epoch', epoch+1,'the test accuracy over the whole test set is %d %%' % (accuracy))\n",
        "       \n",
        "print('Finished Training')\n",
        "\n",
        "# #모델 저장"
      ],
      "metadata": {
        "id": "cotZG23NChmW",
        "colab": {
          "base_uri": "https://localhost:8080/"
        },
        "outputId": "6981d021-9f2c-400f-9280-f0ffebd5b40d"
      },
      "execution_count": 12,
      "outputs": [
        {
          "output_type": "stream",
          "name": "stdout",
          "text": [
            "[1,  2000] loss: 2.733\n",
            "[1,  4000] loss: 2.336\n",
            "[1,  6000] loss: 2.322\n",
            "[1,  8000] loss: 2.487\n",
            "[1, 10000] loss: 2.315\n",
            "[1, 12000] loss: 2.315\n",
            "[1, 14000] loss: 2.306\n",
            "[1, 16000] loss: 2.313\n",
            "[1, 18000] loss: 2.308\n",
            "[1, 20000] loss: 2.304\n",
            "[1, 22000] loss: 2.304\n",
            "[1, 24000] loss: 2.404\n",
            "[1, 26000] loss: 2.305\n",
            "[1, 28000] loss: 2.303\n",
            "[1, 30000] loss: 2.304\n",
            "[1, 32000] loss: 2.304\n",
            "[1, 34000] loss: 2.302\n",
            "[1, 36000] loss: 2.303\n",
            "[1, 38000] loss: 2.303\n",
            "[1, 40000] loss: 2.304\n",
            "[1, 42000] loss: 2.304\n",
            "[1, 44000] loss: 2.302\n",
            "[1, 46000] loss: 2.304\n",
            "[1, 48000] loss: 2.304\n",
            "[1, 50000] loss: 2.303\n",
            "For epoch 1 the test accuracy over the whole test set is 10 %\n",
            "[2,  2000] loss: 2.303\n",
            "[2,  4000] loss: 2.304\n",
            "[2,  6000] loss: 2.304\n",
            "[2,  8000] loss: 2.303\n",
            "[2, 10000] loss: 2.303\n",
            "[2, 12000] loss: 2.304\n",
            "[2, 14000] loss: 2.303\n",
            "[2, 16000] loss: 2.304\n",
            "[2, 18000] loss: 2.303\n",
            "[2, 20000] loss: 2.304\n",
            "[2, 22000] loss: 2.303\n",
            "[2, 24000] loss: 2.304\n",
            "[2, 26000] loss: 2.302\n",
            "[2, 28000] loss: 2.304\n",
            "[2, 30000] loss: 2.304\n",
            "[2, 32000] loss: 2.303\n",
            "[2, 34000] loss: 2.304\n",
            "[2, 36000] loss: 2.303\n",
            "[2, 38000] loss: 2.304\n",
            "[2, 40000] loss: 2.302\n",
            "[2, 42000] loss: 2.303\n",
            "[2, 44000] loss: 2.304\n",
            "[2, 46000] loss: 2.304\n",
            "[2, 48000] loss: 2.303\n",
            "[2, 50000] loss: 2.304\n",
            "For epoch 2 the test accuracy over the whole test set is 10 %\n",
            "[3,  2000] loss: 2.303\n",
            "[3,  4000] loss: 2.302\n",
            "[3,  6000] loss: 2.304\n",
            "[3,  8000] loss: 2.304\n",
            "[3, 10000] loss: 2.304\n",
            "[3, 12000] loss: 2.304\n",
            "[3, 14000] loss: 2.304\n",
            "[3, 16000] loss: 2.302\n",
            "[3, 18000] loss: 2.304\n",
            "[3, 20000] loss: 2.303\n",
            "[3, 22000] loss: 2.305\n",
            "[3, 24000] loss: 2.303\n",
            "[3, 26000] loss: 2.303\n",
            "[3, 28000] loss: 2.304\n",
            "[3, 30000] loss: 2.303\n",
            "[3, 32000] loss: 2.303\n",
            "[3, 34000] loss: 2.304\n",
            "[3, 36000] loss: 2.302\n",
            "[3, 38000] loss: 2.303\n",
            "[3, 40000] loss: 2.303\n",
            "[3, 42000] loss: 2.305\n",
            "[3, 44000] loss: 2.303\n",
            "[3, 46000] loss: 2.303\n",
            "[3, 48000] loss: 2.302\n",
            "[3, 50000] loss: 2.305\n",
            "For epoch 3 the test accuracy over the whole test set is 10 %\n",
            "[4,  2000] loss: 2.304\n",
            "[4,  4000] loss: 2.303\n",
            "[4,  6000] loss: 2.303\n",
            "[4,  8000] loss: 2.304\n",
            "[4, 10000] loss: 2.304\n",
            "[4, 12000] loss: 2.303\n",
            "[4, 14000] loss: 2.304\n",
            "[4, 16000] loss: 2.303\n",
            "[4, 18000] loss: 2.303\n",
            "[4, 20000] loss: 2.304\n",
            "[4, 22000] loss: 2.304\n",
            "[4, 24000] loss: 2.302\n",
            "[4, 26000] loss: 2.304\n",
            "[4, 28000] loss: 2.303\n",
            "[4, 30000] loss: 2.303\n",
            "[4, 32000] loss: 2.304\n",
            "[4, 34000] loss: 2.303\n",
            "[4, 36000] loss: 2.304\n",
            "[4, 38000] loss: 2.303\n",
            "[4, 40000] loss: 2.303\n",
            "[4, 42000] loss: 2.304\n",
            "[4, 44000] loss: 2.304\n",
            "[4, 46000] loss: 2.304\n",
            "[4, 48000] loss: 2.304\n",
            "[4, 50000] loss: 2.303\n",
            "For epoch 4 the test accuracy over the whole test set is 10 %\n",
            "[5,  2000] loss: 2.303\n",
            "[5,  4000] loss: 2.303\n",
            "[5,  6000] loss: 2.303\n",
            "[5,  8000] loss: 2.304\n",
            "[5, 10000] loss: 2.304\n",
            "[5, 12000] loss: 2.303\n",
            "[5, 14000] loss: 2.303\n",
            "[5, 16000] loss: 2.304\n",
            "[5, 18000] loss: 2.303\n",
            "[5, 20000] loss: 2.305\n",
            "[5, 22000] loss: 2.303\n",
            "[5, 24000] loss: 2.304\n",
            "[5, 26000] loss: 2.304\n",
            "[5, 28000] loss: 2.302\n",
            "[5, 30000] loss: 2.304\n",
            "[5, 32000] loss: 2.304\n",
            "[5, 34000] loss: 2.303\n",
            "[5, 36000] loss: 2.304\n",
            "[5, 38000] loss: 2.303\n",
            "[5, 40000] loss: 2.304\n",
            "[5, 42000] loss: 2.303\n",
            "[5, 44000] loss: 2.304\n",
            "[5, 46000] loss: 2.303\n",
            "[5, 48000] loss: 2.304\n",
            "[5, 50000] loss: 2.303\n",
            "For epoch 5 the test accuracy over the whole test set is 10 %\n",
            "Finished Training\n"
          ]
        }
      ]
    },
    {
      "cell_type": "markdown",
      "source": [
        "https://docs.microsoft.com/ko-kr/windows/ai/windows-ml/tutorials/pytorch-train-model"
      ],
      "metadata": {
        "id": "qvQZkBkX-Cyv"
      }
    },
    {
      "cell_type": "code",
      "source": [
        "path = \"cifar_net.pth\"\n",
        "torch.save(model.state_dict(), path)\n",
        "           \n",
        "# model.load_state_dict(torch.load(path))"
      ],
      "metadata": {
        "id": "AXUBRd0gJEk9"
      },
      "execution_count": 16,
      "outputs": []
    },
    {
      "cell_type": "code",
      "source": [
        "model.load_state_dict(torch.load(path))"
      ],
      "metadata": {
        "colab": {
          "base_uri": "https://localhost:8080/"
        },
        "id": "IFdpFiomvacD",
        "outputId": "4ffff841-b235-4f76-e96f-862bb54ccc38"
      },
      "execution_count": 17,
      "outputs": [
        {
          "output_type": "execute_result",
          "data": {
            "text/plain": [
              "<All keys matched successfully>"
            ]
          },
          "metadata": {},
          "execution_count": 17
        }
      ]
    },
    {
      "cell_type": "markdown",
      "source": [
        "RuntimeError: Input type (torch.FloatTensor) and weight type (torch.cuda.FloatTensor) should be the same or input should be a MKLDNN tensor and weight is a dense tensor\n",
        "\n",
        "```\n",
        "images, labels = data\n",
        "\n",
        "images, labels = data\n",
        "images, labels = images.cuda(), labels.cuda()\n",
        "```"
      ],
      "metadata": {
        "id": "rNegpUn8v6Oy"
      }
    },
    {
      "cell_type": "code",
      "source": [
        ""
      ],
      "metadata": {
        "id": "xzfhF181zEYY"
      },
      "execution_count": null,
      "outputs": []
    }
  ]
}